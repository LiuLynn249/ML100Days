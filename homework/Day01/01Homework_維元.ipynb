{
 "cells": [
  {
   "cell_type": "markdown",
   "metadata": {
    "id": "P6xk2_jLsvFF"
   },
   "source": [
    "# [作業目標]\n",
    "\n",
    "1. [簡答題] 請問下列兩種將 Array 轉換成 List 的方式有何不同？\n",
    "\n",
    "```\n",
    "print('list(a): ', list(a))\n",
    "print('tolist(): ', a.tolist())\n",
    "```\n",
    "\n",
    "2. 請試著在程式中印出以下三個 NdArray 的屬性？（屬性：ndim、shape、size、dtype、itemsize、length、type）\n",
    "\n",
    "```\n",
    "a = np.random.randint(10, size=6) \n",
    "b = np.random.randint(10, size=(3,4)) \n",
    "c = np.random.randint(10, size=(2,3,2)) \n",
    "```\n",
    "\n",
    "3. 如何利用 list(...) 實現 a.tolist() 的效果？試著用程式實作。\n"
   ]
  },
  {
   "cell_type": "markdown",
   "metadata": {
    "id": "uXGll28asvFS"
   },
   "source": [
    "# 作業 "
   ]
  },
  {
   "cell_type": "markdown",
   "metadata": {
    "id": "SYkvkp9YLwB7"
   },
   "source": [
    "### 1. [簡答題] 請問下列兩種將 Array 轉換成 List 的方式有何不同？\n",
    "\n",
    "```\n",
    "print('list(a): ', list(a))\n",
    "print('tolist(): ', a.tolist())\n",
    "```\n"
   ]
  },
  {
   "cell_type": "code",
   "execution_count": 38,
   "metadata": {
    "id": "5QrYoyNWsvFS",
    "outputId": "13f374d0-6f1b-47aa-bbac-c7d1a8c6995c"
   },
   "outputs": [
    {
     "name": "stdout",
     "output_type": "stream",
     "text": [
      "list(a):  [array([0, 1, 2, 3]), array([4, 5, 6, 7]), array([ 8,  9, 10, 11])]\n",
      "tolist():  [[0, 1, 2, 3], [4, 5, 6, 7], [8, 9, 10, 11]]\n"
     ]
    }
   ],
   "source": [
    "'''\n",
    "Your Code\n",
    "'''\n",
    "\n",
    "import numpy as np\n",
    "a = np.arange(12).reshape(3,4)\n",
    "print('list(a): ', list(a))#只會把第一層的元素轉換成 List，多層的話只有第一層會轉\n",
    "print('tolist(): ', a.tolist())#能達成多層的型態轉換\n"
   ]
  },
  {
   "cell_type": "markdown",
   "metadata": {
    "id": "AC9wUCyALwB9"
   },
   "source": [
    "### 2. 請試著在程式中印出以下三個 NdArray 的屬性並且解釋結果？（屬性：ndim、shape、size、dtype、itemsize、length、type）\n",
    "\n",
    "```\n",
    "a = np.random.randint(10, size=6) \n",
    "b = np.random.randint(10, size=(3,4)) \n",
    "c = np.random.randint(10, size=(2,3,2)) \n",
    "```"
   ]
  },
  {
   "cell_type": "code",
   "execution_count": 29,
   "metadata": {
    "id": "4qARRsdtLwB-"
   },
   "outputs": [],
   "source": [
    "# 記得先 Import 正確的套件\n",
    "\n",
    "import numpy as np\n"
   ]
  },
  {
   "cell_type": "code",
   "execution_count": 30,
   "metadata": {
    "id": "e1gVI0tvsvFY",
    "outputId": "9be10770-9042-40c8-c4bc-217b84be9fc9"
   },
   "outputs": [
    {
     "name": "stdout",
     "output_type": "stream",
     "text": [
      "印出的結果:\n",
      " [6 3 3 4 4 1]\n",
      "陣列的維度:ndim → 1\n",
      "陣列的維度大小:shape → (6,)\n",
      "陣列中的元素個數:size → 6\n",
      "陣列中的資料型態:dtype → int32\n",
      "陣列中的元素占用空間: itemsize → 4\n",
      "陣列的長度: length → 6\n",
      "陣列的類型: type → <class 'numpy.ndarray'>\n"
     ]
    }
   ],
   "source": [
    "\n",
    "a = np.random.randint(10, size=6) \n",
    "print(f'印出的結果:\\n {a}')\n",
    "print(f'陣列的維度:ndim → {a.ndim}')\n",
    "print(f'陣列的維度大小:shape → {a.shape}')\n",
    "print(f'陣列中的元素個數:size → {a.size}')\n",
    "print(f'陣列中的資料型態:dtype → {a.dtype}')\n",
    "print(f'陣列中的元素占用空間: itemsize → {a.itemsize}')\n",
    "print(f'陣列的長度: length → {len(a)}')\n",
    "print(f'陣列的類型: type → {type(a)}')"
   ]
  },
  {
   "cell_type": "code",
   "execution_count": 31,
   "metadata": {
    "id": "iIJrIr7kLwB_",
    "outputId": "083c5519-394c-404e-9764-100c4ed5118a"
   },
   "outputs": [
    {
     "name": "stdout",
     "output_type": "stream",
     "text": [
      "印出的結果:\n",
      " [[3 7 6 0]\n",
      " [0 2 3 4]\n",
      " [9 9 1 7]]\n",
      "陣列的維度:ndim → 2\n",
      "陣列的維度大小:shape → (3, 4)\n",
      "陣列中的元素個數:size → 12\n",
      "陣列中的資料型態:dtype → int32\n",
      "陣列中的元素占用空間: itemsize → 4\n",
      "陣列的長度: length → 3\n",
      "陣列的類型: type → <class 'numpy.ndarray'>\n"
     ]
    }
   ],
   "source": [
    "b = np.random.randint(10, size=(3,4)) \n",
    "\n",
    "print(f'印出的結果:\\n {b}')\n",
    "print(f'陣列的維度:ndim → {b.ndim}')\n",
    "print(f'陣列的維度大小:shape → {b.shape}')\n",
    "print(f'陣列中的元素個數:size → {b.size}')\n",
    "print(f'陣列中的資料型態:dtype → {b.dtype}')\n",
    "print(f'陣列中的元素占用空間: itemsize → {b.itemsize}')\n",
    "print(f'陣列的長度: length → {len(b)}')\n",
    "print(f'陣列的類型: type → {type(b)}')"
   ]
  },
  {
   "cell_type": "code",
   "execution_count": 32,
   "metadata": {
    "id": "98SRFh_FLwCC",
    "outputId": "dc65dfac-9ae6-49d2-f854-88eccebc2aac"
   },
   "outputs": [
    {
     "name": "stdout",
     "output_type": "stream",
     "text": [
      "印出的結果:\n",
      " [[[1 6]\n",
      "  [4 5]\n",
      "  [0 2]]\n",
      "\n",
      " [[4 8]\n",
      "  [8 9]\n",
      "  [6 1]]]\n",
      "陣列的維度:ndim → 3\n",
      "陣列的維度大小:shape → (2, 3, 2)\n",
      "陣列中的元素個數:size → 12\n",
      "陣列中的資料型態:dtype → int32\n",
      "陣列中的元素占用空間: itemsize → 4\n",
      "陣列的長度: length → 2\n",
      "陣列的類型: type → <class 'numpy.ndarray'>\n"
     ]
    }
   ],
   "source": [
    "c = np.random.randint(10, size=(2,3,2)) \n",
    "\n",
    "print(f'印出的結果:\\n {c}')\n",
    "print(f'陣列的維度:ndim → {c.ndim}')\n",
    "print(f'陣列的維度大小:shape → {c.shape}')\n",
    "print(f'陣列中的元素個數:size → {c.size}')\n",
    "print(f'陣列中的資料型態:dtype → {c.dtype}')\n",
    "print(f'陣列中的元素占用空間: itemsize → {c.itemsize}')\n",
    "print(f'陣列的長度: length → {len(c)}')\n",
    "print(f'陣列的類型: type → {type(c)}')"
   ]
  },
  {
   "cell_type": "markdown",
   "metadata": {
    "id": "Uf6zC0QZLwCE"
   },
   "source": [
    "### 3. 如何利用 list(...) 實現 a.tolist() 的效果？試著用程式實作。\n"
   ]
  },
  {
   "cell_type": "code",
   "execution_count": 6,
   "metadata": {
    "id": "sCUzHu_BLwCF",
    "outputId": "ba9c8945-8efb-42b1-f978-2bbdda97accd"
   },
   "outputs": [
    {
     "name": "stdout",
     "output_type": "stream",
     "text": [
      "[3, 8, 7, 2, 8, 4]\n",
      "[3, 8, 7, 2, 8, 4]\n"
     ]
    }
   ],
   "source": [
    "import numpy as np\n",
    "a = np.random.randint(10, size=6) \n",
    "\n",
    "print(a.tolist())\n",
    "print(list(a))"
   ]
  },
  {
   "cell_type": "code",
   "execution_count": 4,
   "metadata": {
    "id": "IUkVtw8RLwCG",
    "outputId": "e39875a5-5ec7-431b-c12a-485acc167e44"
   },
   "outputs": [
    {
     "name": "stdout",
     "output_type": "stream",
     "text": [
      "[[0, 5, 1, 0], [0, 0, 6, 5], [1, 0, 7, 6]]\n",
      "[array([0, 5, 1, 0]), array([0, 0, 6, 5]), array([1, 0, 7, 6])]\n"
     ]
    }
   ],
   "source": [
    "b = np.random.randint(10, size=(3,4)) \n",
    "\n",
    "print(b.tolist())\n",
    "print(list(b))\n"
   ]
  },
  {
   "cell_type": "code",
   "execution_count": 7,
   "metadata": {
    "id": "NPhF8_CqLwCG",
    "outputId": "51fab908-5bfd-415f-9584-92bb376648c8",
    "scrolled": true
   },
   "outputs": [
    {
     "name": "stdout",
     "output_type": "stream",
     "text": [
      "[[[4, 9], [2, 1], [1, 5]], [[5, 0], [7, 9], [6, 7]]]\n",
      "[array([[4, 9],\n",
      "       [2, 1],\n",
      "       [1, 5]]), array([[5, 0],\n",
      "       [7, 9],\n",
      "       [6, 7]])]\n"
     ]
    }
   ],
   "source": [
    "c = np.random.randint(10, size=(2,3,2)) \n",
    "\n",
    "print(c.tolist())\n",
    "print(list(c))\n"
   ]
  },
  {
   "cell_type": "code",
   "execution_count": 23,
   "metadata": {
    "id": "3Hc8vQYtLwCH",
    "outputId": "1290bc93-84ca-4da4-eb1a-315da37afaff"
   },
   "outputs": [
    {
     "name": "stdout",
     "output_type": "stream",
     "text": [
      "[3, 8, 7, 2, 8, 4]\n",
      "[[0, 5, 1, 0], [0, 0, 6, 5], [1, 0, 7, 6]]\n",
      "[[[4, 9], [2, 1], [1, 5]], [[5, 0], [7, 9], [6, 7]]]\n"
     ]
    }
   ],
   "source": [
    "\n",
    "def tolist(iterable):#by 遞迴+for迴圈\n",
    "    #判斷是不是陣列\n",
    "    if type(iterable) !=np.ndarray:\n",
    "        return iterable\n",
    "    \n",
    "    newData=[]#給一個新的陣列\n",
    "    for i in iterable:\n",
    "        newData.append(tolist(i))\n",
    "        #顯示程式如何轉 print(newData)\n",
    "    return newData\n",
    "    \n",
    "print(tolist(a))\n",
    "print(tolist(b))\n",
    "print(tolist(c))"
   ]
  }
 ],
 "metadata": {
  "colab": {
   "name": "01Homework_維元.ipynb",
   "provenance": []
  },
  "kernelspec": {
   "display_name": "Python 3",
   "language": "python",
   "name": "python3"
  },
  "language_info": {
   "codemirror_mode": {
    "name": "ipython",
    "version": 3
   },
   "file_extension": ".py",
   "mimetype": "text/x-python",
   "name": "python",
   "nbconvert_exporter": "python",
   "pygments_lexer": "ipython3",
   "version": "3.8.8"
  }
 },
 "nbformat": 4,
 "nbformat_minor": 1
}
