{
 "cells": [
  {
   "cell_type": "code",
   "execution_count": null,
   "id": "84b42a7c",
   "metadata": {},
   "outputs": [],
   "source": [
    "1. 在速度較慢的時候，可以先從哪邊開始檢查？\n",
    "Ans:\n",
    "1.讀取資料型態選最快速的\n",
    "2.多使用內建函數\n",
    "3.向量化的資料處理\n"
   ]
  },
  {
   "cell_type": "code",
   "execution_count": null,
   "id": "383b694d",
   "metadata": {},
   "outputs": [],
   "source": []
  },
  {
   "cell_type": "code",
   "execution_count": null,
   "id": "385db1c0",
   "metadata": {},
   "outputs": [],
   "source": [
    "2. 資料過⼤時應採取什麼⽅式讓記憶體占⽤量下降？\n",
    "Ans:可以將欄位的型態降級，不需要存太多元素在一個數字中"
   ]
  }
 ],
 "metadata": {
  "kernelspec": {
   "display_name": "Python 3",
   "language": "python",
   "name": "python3"
  },
  "language_info": {
   "codemirror_mode": {
    "name": "ipython",
    "version": 3
   },
   "file_extension": ".py",
   "mimetype": "text/x-python",
   "name": "python",
   "nbconvert_exporter": "python",
   "pygments_lexer": "ipython3",
   "version": "3.8.8"
  }
 },
 "nbformat": 4,
 "nbformat_minor": 5
}
