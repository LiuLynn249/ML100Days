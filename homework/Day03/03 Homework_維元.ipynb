{
 "cells": [
  {
   "cell_type": "markdown",
   "metadata": {
    "colab_type": "text",
    "id": "P6xk2_jLsvFF"
   },
   "source": [
    "# [作業目標]\n",
    "\n",
    "1. [簡答題] 請比較 np.zeros 和 np.empty 產生出來的陣列有何差異？為什麼要設計兩種方法？\n",
    "\n",
    "```\n",
    "print(np.zeros((2, 3)))\n",
    "print(np.empty((2, 3)))\n",
    "```\n",
    "\n",
    "2. 在不用「整數亂數方法」的限制下，如何將包含小數的轉換整數？請將給定的 a 陣列當中的元素變成去掉小數變成整數。\n",
    "3. 承上題，怎樣可以限制整數的範圍介於 m - n 之間？請將給定的 a 陣列當中的元素的範圍調整成 m - n 之間。"
   ]
  },
  {
   "cell_type": "markdown",
   "metadata": {
    "colab_type": "text",
    "id": "uXGll28asvFS"
   },
   "source": [
    "# 作業 "
   ]
  },
  {
   "cell_type": "markdown",
   "metadata": {},
   "source": [
    "### 1. [簡答題] 請比較 np.zeros 和 np.empty 產生出來的陣列有何差異？為什麼要設計兩種方法？\n",
    "\n",
    "```\n",
    "print(np.zeros((2, 3)))\n",
    "print(np.empty((2, 3)))\n",
    "```\n"
   ]
  },
  {
   "cell_type": "code",
   "execution_count": 52,
   "metadata": {
    "colab": {},
    "colab_type": "code",
    "id": "5QrYoyNWsvFS"
   },
   "outputs": [
    {
     "name": "stdout",
     "output_type": "stream",
     "text": [
      "[[0. 0. 0.]\n",
      " [0. 0. 0.]]\n",
      "[[0. 0. 0.]\n",
      " [0. 0. 0.]]\n"
     ]
    }
   ],
   "source": [
    "import numpy as np\n",
    "print(np.zeros((2, 3)))#建立全為0的陣列\n",
    "print(np.empty((2, 3)))#建立一個沒有任何具體值的陣列\n",
    "#因NumPy不會初始化陣列內元素的初始值，所以內容將會是不確定的。"
   ]
  },
  {
   "cell_type": "markdown",
   "metadata": {},
   "source": [
    "### 2. 在不用「整數亂數方法」的限制下，如何將包含小數的轉換整數？請將給定的 a 陣列當中的元素變成去掉小數變成整數。\n"
   ]
  },
  {
   "cell_type": "code",
   "execution_count": 93,
   "metadata": {},
   "outputs": [],
   "source": [
    "# 記得先 Import 正確的套件\n",
    "\n",
    "import numpy as np"
   ]
  },
  {
   "cell_type": "code",
   "execution_count": 103,
   "metadata": {},
   "outputs": [
    {
     "name": "stdout",
     "output_type": "stream",
     "text": [
      "[[-0.62809078 -0.30828634 -1.01765248]\n",
      " [ 1.15118541  0.21606063  2.35976772]]\n",
      "[[ 0.  0. -1.]\n",
      " [ 1.  0.  2.]]\n"
     ]
    }
   ],
   "source": [
    "# 參考解答\n",
    "\n",
    "a = np.random.randn(2, 3)#老師出題是rand，但這結果只會傳0~1，所以我改用randn，這樣元素結果就不會都是0\n",
    "print(a)\n",
    "\n",
    "#從陣列轉List\n",
    "List1=list(a)\n",
    "\n",
    "\n",
    "List2=List1\n",
    "for i in range(len(List1)):#取得List的各維度長度\n",
    "    for j in range(len(List1[0])):#取得List的各維度長度\n",
    "        #print(List1[i][j])\n",
    "        List2[i][j]=int(List1[i][j])\n",
    "\n",
    "        \n",
    "print(np.array(List2))"
   ]
  },
  {
   "cell_type": "markdown",
   "metadata": {},
   "source": [
    "### 3. 承上題，怎樣可以限制整數的範圍介於 m - n 之間？請將給定的 a 陣列當中的元素的範圍調整成 m - n 之間。\n"
   ]
  },
  {
   "cell_type": "code",
   "execution_count": 111,
   "metadata": {},
   "outputs": [
    {
     "name": "stdout",
     "output_type": "stream",
     "text": [
      "[[35 33 27 24]\n",
      " [27 23 24 22]\n",
      " [22 38 38 36]]\n"
     ]
    }
   ],
   "source": [
    "import  numpy as np\n",
    "m = 20\n",
    "n = 40\n",
    "\n",
    "a=np.random.randint(m,n,size=(3,4))\n",
    "print(a)"
   ]
  },
  {
   "cell_type": "code",
   "execution_count": null,
   "metadata": {},
   "outputs": [],
   "source": []
  }
 ],
 "metadata": {
  "colab": {
   "name": "Day_023_HW.ipynb",
   "provenance": []
  },
  "kernelspec": {
   "display_name": "Python 3",
   "language": "python",
   "name": "python3"
  }
 },
 "nbformat": 4,
 "nbformat_minor": 1
}
