{
 "cells": [
  {
   "cell_type": "markdown",
   "metadata": {
    "id": "P6xk2_jLsvFF"
   },
   "source": [
    "# [作業目標]\n",
    "\n",
    "1. [簡答題] 請問下列這三種方法有什麼不同？\n",
    "\n",
    "```\n",
    "print(a.sum()) \n",
    "print(np.sum(a))\n",
    "print(sum(a)) \n",
    "```\n",
    "\n",
    "2. 請對一個 5x5 的隨機矩陣作正規化的操作。\n",
    "\n",
    "3. 請建立一個長度等於 10 的正整數向量，並且將其中的最大值改成 -1。\n"
   ]
  },
  {
   "cell_type": "markdown",
   "metadata": {
    "id": "uXGll28asvFS"
   },
   "source": [
    "# 作業 "
   ]
  },
  {
   "cell_type": "markdown",
   "metadata": {
    "id": "lbz8VjL6jxyL"
   },
   "source": [
    "### 1. [簡答題] 請問下列這三種方法有什麼不同？\n",
    "\n",
    "```\n",
    "print(a.sum()) \n",
    "print(np.sum(a))\n",
    "print(sum(a)) \n",
    "```\n",
    "\n"
   ]
  },
  {
   "cell_type": "code",
   "execution_count": 18,
   "metadata": {
    "id": "5QrYoyNWsvFS",
    "outputId": "e9e14d36-38ce-4ce5-edf2-3c7b129db580"
   },
   "outputs": [
    {
     "name": "stdout",
     "output_type": "stream",
     "text": [
      "[ 0  1  2  3  4  5  6  7  8  9 10 11]\n",
      "66\n",
      "66\n",
      "66\n"
     ]
    }
   ],
   "source": [
    "import numpy as np\n",
    "\n",
    "a=np.arange(12)\n",
    "print(a)\n",
    "\n",
    "print(a.sum())   #numpy的函數，可控制針對某一軸相加\n",
    "print(np.sum(a)) #numpy的函數\n",
    "print(sum(a))    #python的內建函數\n"
   ]
  },
  {
   "cell_type": "markdown",
   "metadata": {
    "id": "vVrjBXabjxyS"
   },
   "source": [
    "### 2. 請對一個 5x5 的隨機矩陣作正規化的操作。\n"
   ]
  },
  {
   "cell_type": "code",
   "execution_count": 38,
   "metadata": {
    "id": "ffDRVHs9jxyS"
   },
   "outputs": [
    {
     "name": "stdout",
     "output_type": "stream",
     "text": [
      "[[0.54139146 0.96811938 0.47586604 0.3639416  0.16365988]\n",
      " [0.26332286 0.69444748 0.94194771 0.3616365  0.1951236 ]\n",
      " [0.01898308 0.22168213 0.12545267 0.32554042 0.84976543]\n",
      " [0.97325764 0.47299618 0.83216093 0.61362791 0.26770287]\n",
      " [0.86433141 0.52341186 0.17329854 0.6077506  0.1016013 ]]\n",
      "[[ 0.06680539  0.51398059 -0.00185978 -0.11914724 -0.32902575]\n",
      " [-0.22458727  0.22719531  0.48655486 -0.1215628  -0.2960544 ]\n",
      " [-0.48063494 -0.26822328 -0.36906371 -0.15938847  0.38995554]\n",
      " [ 0.51936506 -0.00486716  0.37150749  0.14250314 -0.21999738]\n",
      " [ 0.40521947  0.04796427 -0.31892524  0.13634422 -0.39405795]]\n"
     ]
    }
   ],
   "source": [
    "# 記得先 Import 正確的套件\n",
    "\n",
    "\n",
    "import numpy as np\n",
    "A = np.random.random((5, 5))\n",
    "print(A)\n",
    "\n",
    "maxA=A.max()\n",
    "#print('最大:%10f'%(maxA))\n",
    "minA=A.min()\n",
    "#print('最小:%10f'%(minA))\n",
    "meanA=A.mean()\n",
    "#print('平均:%10f'%meanA)\n",
    "\n",
    "newL=[]\n",
    "for i in A:\n",
    "    newL.append((i-meanA)/(maxA-minA))\n",
    "    #資料的正規化(Normalization)是將原始資料的數據按比例縮放於 [0, 1] 區間中，且不改變其原本分佈。-----應該\n",
    "    \n",
    "print(np.array(newL))"
   ]
  },
  {
   "cell_type": "markdown",
   "metadata": {
    "id": "Ptc3ZrNQjxyU"
   },
   "source": [
    "### 3. 請建立一個長度等於 10 的正整數向量，並且將其中的最大值改成 -1。\n"
   ]
  },
  {
   "cell_type": "code",
   "execution_count": 60,
   "metadata": {
    "id": "Yu1kbLxojxyU",
    "outputId": "d323e754-178a-46ae-e15e-98275ae220dd"
   },
   "outputs": [
    {
     "name": "stdout",
     "output_type": "stream",
     "text": [
      "[29 20 28  9 66 91 12 86 52 86]\n",
      "最大值91\n",
      "[29 20 28  9 66 -1 12 86 52 86]\n"
     ]
    }
   ],
   "source": [
    "import numpy as np\n",
    "A=np.random.randint(1,100,10)#0不是正整數，而是自然數\n",
    "maxA=A.max()\n",
    "print(A)\n",
    "print('最大值%d'%(maxA))\n",
    "\n",
    "index=np.argmax(A)#取出最大值的索引\n",
    "#print(index)\n",
    "A[index]=-1#將最大值改為-1\n",
    "print(A)"
   ]
  }
 ],
 "metadata": {
  "colab": {
   "name": "06 Homework_維元.ipynb",
   "provenance": []
  },
  "kernelspec": {
   "display_name": "Python 3",
   "language": "python",
   "name": "python3"
  },
  "language_info": {
   "codemirror_mode": {
    "name": "ipython",
    "version": 3
   },
   "file_extension": ".py",
   "mimetype": "text/x-python",
   "name": "python",
   "nbconvert_exporter": "python",
   "pygments_lexer": "ipython3",
   "version": "3.8.8"
  }
 },
 "nbformat": 4,
 "nbformat_minor": 1
}
